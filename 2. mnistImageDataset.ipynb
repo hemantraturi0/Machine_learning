{
 "cells": [
  {
   "cell_type": "markdown",
   "metadata": {},
   "source": [
    "## Using machine learning algorithm for classification of number images from mnist dataset."
   ]
  },
  {
   "cell_type": "code",
   "execution_count": 1,
   "metadata": {},
   "outputs": [],
   "source": [
    "# Importing the basic libraries\n",
    "import numpy as np\n",
    "import matplotlib.pyplot as plt\n",
    "import pandas as pd"
   ]
  },
  {
   "cell_type": "code",
   "execution_count": 2,
   "metadata": {},
   "outputs": [],
   "source": [
    "# Loading mnist_784 dataset.\n",
    "\n",
    "from sklearn.datasets import fetch_openml\n",
    "dataset = fetch_openml('mnist_784')"
   ]
  },
  {
   "cell_type": "markdown",
   "metadata": {},
   "source": [
    "\n",
    " 28 * 28 = 784. So total number of pixels in an Image is 784\n",
    " In flattening operation we will just arrange all these\n",
    " pixels in a single line.\n"
   ]
  },
  {
   "cell_type": "code",
   "execution_count": 3,
   "metadata": {},
   "outputs": [],
   "source": [
    "# Setting feature matrix and target vector\n",
    "X = dataset.data\n",
    "y = dataset.target\n",
    "y = y.astype(np.int32)"
   ]
  },
  {
   "cell_type": "code",
   "execution_count": 4,
   "metadata": {},
   "outputs": [
    {
     "data": {
      "image/png": "[encoded data removed]",
      "text/plain": [
       "<Figure size 432x288 with 1 Axes>"
      ]
     },
     "metadata": {
      "needs_background": "light"
     },
     "output_type": "display_data"
    }
   ],
   "source": [
    "# Checking a random image\n",
    "some_digit = X[6982]\n",
    "some_digit_image = some_digit.reshape(28, 28)\n",
    "plt.imshow(some_digit_image)\n",
    "plt.show()"
   ]
  },
  {
   "cell_type": "code",
   "execution_count": 5,
   "metadata": {},
   "outputs": [
    {
     "data": {
      "text/plain": [
       "DecisionTreeClassifier(ccp_alpha=0.0, class_weight=None, criterion='gini',\n",
       "                       max_depth=3, max_features=None, max_leaf_nodes=None,\n",
       "                       min_impurity_decrease=0.0, min_impurity_split=None,\n",
       "                       min_samples_leaf=1, min_samples_split=2,\n",
       "                       min_weight_fraction_leaf=0.0, presort='deprecated',\n",
       "                       random_state=None, splitter='best')"
      ]
     },
     "execution_count": 5,
     "metadata": {},
     "output_type": "execute_result"
    }
   ],
   "source": [
    "# Applying decision tree algoritm with depth of 3\n",
    "from sklearn.tree import DecisionTreeClassifier\n",
    "dtf = DecisionTreeClassifier(max_depth = 3)\n",
    "dtf.fit(X, y)"
   ]
  },
  {
   "cell_type": "code",
   "execution_count": 6,
   "metadata": {},
   "outputs": [
    {
     "data": {
      "text/plain": [
       "0.44238571428571427"
      ]
     },
     "execution_count": 6,
     "metadata": {},
     "output_type": "execute_result"
    }
   ],
   "source": [
    "# Checking the score of dtf\n",
    "dtf.score(X, y)"
   ]
  },
  {
   "cell_type": "markdown",
   "metadata": {},
   "source": [
    "We have got a score of 44% only which very low and not acceptable. So, we will go ahead for fine tuning."
   ]
  },
  {
   "cell_type": "code",
   "execution_count": 7,
   "metadata": {},
   "outputs": [],
   "source": [
    "# Getting the predictions\n",
    "y_pred = dtf.predict(X)"
   ]
  },
  {
   "cell_type": "code",
   "execution_count": 8,
   "metadata": {},
   "outputs": [
    {
     "data": {
      "text/plain": [
       "array([[5646,   62,    0,  177,   35,  279,  131,  535,   38,    0],\n",
       "       [  17, 6710,    0,  358,  228,   28,  387,   25,  124,    0],\n",
       "       [ 595,  492,    0,  374,  775,   27, 4022,  152,  553,    0],\n",
       "       [ 209,  177,    0, 4556,  981,  661,  139,  109,  309,    0],\n",
       "       [  12,  187,    0,  102, 4950,  201,  757,  490,  125,    0],\n",
       "       [ 622,  260,    0,  743, 1965, 1548,  663,  464,   48,    0],\n",
       "       [ 243,  446,    0,  298,  370,  295, 4480,  419,  325,    0],\n",
       "       [  49,   76,    0,   61, 4076,  233,  793, 1774,  231,    0],\n",
       "       [  93,  698,    0,  558,  724,  762, 2639,   48, 1303,    0],\n",
       "       [  26,  168,    0,  181, 4517,  825,  527,  462,  252,    0]],\n",
       "      dtype=int64)"
      ]
     },
     "execution_count": 8,
     "metadata": {},
     "output_type": "execute_result"
    }
   ],
   "source": [
    "# Checking the confusion matrix so created\n",
    "# y is the vector of observations\n",
    "# y_pred is the vector of prediction\n",
    "\n",
    "from sklearn.metrics import confusion_matrix\n",
    "cm = confusion_matrix(y, y_pred)\n",
    "cm"
   ]
  },
  {
   "cell_type": "code",
   "execution_count": 9,
   "metadata": {},
   "outputs": [
    {
     "data": {
      "text/plain": [
       "0.9633714285714285"
      ]
     },
     "execution_count": 9,
     "metadata": {},
     "output_type": "execute_result"
    }
   ],
   "source": [
    "# Fine tuning by increasing the depth of the tree\n",
    "dtf_1 = DecisionTreeClassifier(max_depth = 13)\n",
    "dtf_1.fit(X, y)\n",
    "\n",
    "dtf_1.score(X, y)"
   ]
  },
  {
   "cell_type": "markdown",
   "metadata": {},
   "source": [
    "This time the score is very high and acceptable."
   ]
  },
  {
   "cell_type": "code",
   "execution_count": 10,
   "metadata": {},
   "outputs": [],
   "source": [
    "# Getting the predictons\n",
    "y_pred_1=dtf_1.predict(X)"
   ]
  },
  {
   "cell_type": "code",
   "execution_count": 11,
   "metadata": {},
   "outputs": [
    {
     "data": {
      "text/plain": [
       "array([[6830,    1,   34,    5,    2,    8,   11,    1,    7,    4],\n",
       "       [   1, 7784,   17,   18,    6,    7,    5,   11,   26,    2],\n",
       "       [  17,   28, 6759,   49,   30,   11,   19,   33,   18,   26],\n",
       "       [  11,   22,   92, 6760,   23,   81,   17,   30,   46,   59],\n",
       "       [   8,   11,   23,   11, 6534,    5,   17,   20,   56,  139],\n",
       "       [  26,   19,   13,  106,   27, 6001,   41,    4,   45,   31],\n",
       "       [  20,   27,   23,   14,   22,   24, 6709,    5,   29,    3],\n",
       "       [   9,   26,   40,   33,   33,   11,    1, 7063,    8,   69],\n",
       "       [   9,   63,   61,   33,   32,   25,   52,   21, 6442,   87],\n",
       "       [  14,   11,   42,   47,  102,   49,   11,   73,   55, 6554]],\n",
       "      dtype=int64)"
      ]
     },
     "execution_count": 11,
     "metadata": {},
     "output_type": "execute_result"
    }
   ],
   "source": [
    "# Checking the confusion matrix of new predictions.\n",
    "cm=confusion_matrix(y, y_pred_1)\n",
    "cm"
   ]
  },
  {
   "cell_type": "markdown",
   "metadata": {},
   "source": [
    "Let's compare first few images with predictions."
   ]
  },
  {
   "cell_type": "code",
   "execution_count": 12,
   "metadata": {},
   "outputs": [
    {
     "data": {
      "text/plain": [
       "array([[4, 0, 4, 1, 4, 6, 1, 4, 1, 4],\n",
       "       [3, 7, 3, 6, 1, 4, 4, 6, 7, 4],\n",
       "       [4, 0, 4, 1, 6, 3, 4, 3, 6, 6],\n",
       "       [8, 1, 6, 1, 5, 3, 6, 0, 4, 6],\n",
       "       [1, 8, 4, 4, 3, 4, 6, 4, 5, 3]])"
      ]
     },
     "execution_count": 12,
     "metadata": {},
     "output_type": "execute_result"
    }
   ],
   "source": [
    "y_pred[:50].reshape(5,10)"
   ]
  },
  {
   "cell_type": "code",
   "execution_count": 13,
   "metadata": {},
   "outputs": [
    {
     "data": {
      "image/png": "[encoded data removed]",
      "text/plain": [
       "<Figure size 1080x360 with 50 Axes>"
      ]
     },
     "metadata": {},
     "output_type": "display_data"
    }
   ],
   "source": [
    "plt.figure(figsize=(15,5))\n",
    "for i in range(50):\n",
    "    image = X[i]\n",
    "    image = image.reshape(28, 28)\n",
    "    plt.subplot(5, 10, i+1)\n",
    "    plt.xticks([]) # empty list to avoid ticks\n",
    "    plt.yticks([])\n",
    "    plt.imshow(image)\n",
    "plt.show()"
   ]
  },
  {
   "cell_type": "code",
   "execution_count": null,
   "metadata": {},
   "outputs": [],
   "source": []
  }
 ],
 "metadata": {
  "kernelspec": {
   "display_name": "Python 3",
   "language": "python",
   "name": "python3"
  },
  "language_info": {
   "codemirror_mode": {
    "name": "ipython",
    "version": 3
   },
   "file_extension": ".py",
   "mimetype": "text/x-python",
   "name": "python",
   "nbconvert_exporter": "python",
   "pygments_lexer": "ipython3",
   "version": "3.7.4"
  }
 },
 "nbformat": 4,
 "nbformat_minor": 4
}
